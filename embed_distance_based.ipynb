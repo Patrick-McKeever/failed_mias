{
 "cells": [
  {
   "cell_type": "code",
   "execution_count": 2,
   "id": "fd559ff2-3840-4683-96c2-29435f20e549",
   "metadata": {},
   "outputs": [
    {
     "name": "stderr",
     "output_type": "stream",
     "text": [
      "/home/patrick/miniconda3/envs/sctest-env/lib/python3.9/site-packages/tqdm/auto.py:21: TqdmWarning: IProgress not found. Please update jupyter and ipywidgets. See https://ipywidgets.readthedocs.io/en/stable/user_install.html\n",
      "  from .autonotebook import tqdm as notebook_tqdm\n"
     ]
    }
   ],
   "source": [
    "import scanpy as sc\n",
    "import scvi"
   ]
  },
  {
   "cell_type": "code",
   "execution_count": 13,
   "id": "9c5c834d-9884-44fb-b376-e413fcf15600",
   "metadata": {},
   "outputs": [
    {
     "name": "stderr",
     "output_type": "stream",
     "text": [
      "GPU available: True (cuda), used: True\n",
      "TPU available: False, using: 0 TPU cores\n",
      "HPU available: False, using: 0 HPUs\n",
      "LOCAL_RANK: 0 - CUDA_VISIBLE_DEVICES: [0]\n",
      "/home/patrick/miniconda3/envs/sctest-env/lib/python3.9/site-packages/lightning/pytorch/trainer/connectors/data_connector.py:433: The 'train_dataloader' does not have many workers which may be a bottleneck. Consider increasing the value of the `num_workers` argument` to `num_workers=31` in the `DataLoader` to improve performance.\n"
     ]
    },
    {
     "name": "stdout",
     "output_type": "stream",
     "text": [
      "Epoch 200/200: 100%|█| 200/200 [11:02<00:00,  3.30s/it, v_num=1, train_loss_step=128, train_lo"
     ]
    },
    {
     "name": "stderr",
     "output_type": "stream",
     "text": [
      "`Trainer.fit` stopped: `max_epochs=200` reached.\n"
     ]
    },
    {
     "name": "stdout",
     "output_type": "stream",
     "text": [
      "Epoch 200/200: 100%|█| 200/200 [11:02<00:00,  3.31s/it, v_num=1, train_loss_step=128, train_lo\n",
      "Finished training. Saved embeddings to 100_ind_1000_gene_subset1_embeddings.h5ad and model to 100_ind_1000_gene_subset1\n"
     ]
    }
   ],
   "source": [
    "def train_scvi(input_path, epochs, output, model_dir):\n",
    "    adata = sc.read_h5ad(input_path)\n",
    "    scvi.model.SCVI.setup_anndata(adata)\n",
    "    model = scvi.model.SCVI(adata)\n",
    "    model.train(max_epochs=epochs)\n",
    "\n",
    "    # Save embeddings in .obsm\n",
    "    adata.obsm[\"X_scVI\"] = model.get_latent_representation()\n",
    "    adata.write_h5ad(output)\n",
    "\n",
    "    # Save trained model for future use\n",
    "    model.save(model_dir, overwrite=True)\n",
    "\n",
    "    print(f\"Finished training. Saved embeddings to {output} and model to {model_dir}\")\n",
    "    return model\n",
    "\n",
    "scvi_dir = \"100_ind_1000_gene_subset1\"\n",
    "out_embeddings_path = \"100_ind_1000_gene_subset1_embeddings.h5ad\"\n",
    "model = train_scvi(\"100_ind_1000_gene.h5ad\", 200, out_embeddings_path, scvi_dir)"
   ]
  },
  {
   "cell_type": "code",
   "execution_count": 43,
   "id": "f60a1901-72e7-40ac-9d37-32a96ca98914",
   "metadata": {
    "scrolled": true
   },
   "outputs": [
    {
     "name": "stdout",
     "output_type": "stream",
     "text": [
      "\u001b[34mINFO    \u001b[0m File 100_ind_1000_gene_subset1/model.pt already downloaded                                                \n"
     ]
    },
    {
     "name": "stderr",
     "output_type": "stream",
     "text": [
      "/home/patrick/miniconda3/envs/sctest-env/lib/python3.9/site-packages/scvi/model/base/_utils.py:66: FutureWarning: You are using `torch.load` with `weights_only=False` (the current default value), which uses the default pickle module implicitly. It is possible to construct malicious pickle data which will execute arbitrary code during unpickling (See https://github.com/pytorch/pytorch/blob/main/SECURITY.md#untrusted-models for more details). In a future release, the default value for `weights_only` will be flipped to `True`. This limits the functions that could be executed during unpickling. Arbitrary objects will no longer be allowed to be loaded via this mode unless they are explicitly allowlisted by the user via `torch.serialization.add_safe_globals`. We recommend you start setting `weights_only=True` for any use case where you don't have full control of the loaded file. Please open an issue on GitHub for any issues related to this experimental feature.\n",
      "  model = torch.load(model_path, map_location=map_location)\n"
     ]
    },
    {
     "name": "stdout",
     "output_type": "stream",
     "text": [
      "\u001b[34mINFO    \u001b[0m File 100_ind_1000_gene_subset1/model.pt already downloaded                                                \n"
     ]
    },
    {
     "name": "stderr",
     "output_type": "stream",
     "text": [
      "/home/patrick/miniconda3/envs/sctest-env/lib/python3.9/site-packages/scvi/model/base/_utils.py:66: FutureWarning: You are using `torch.load` with `weights_only=False` (the current default value), which uses the default pickle module implicitly. It is possible to construct malicious pickle data which will execute arbitrary code during unpickling (See https://github.com/pytorch/pytorch/blob/main/SECURITY.md#untrusted-models for more details). In a future release, the default value for `weights_only` will be flipped to `True`. This limits the functions that could be executed during unpickling. Arbitrary objects will no longer be allowed to be loaded via this mode unless they are explicitly allowlisted by the user via `torch.serialization.add_safe_globals`. We recommend you start setting `weights_only=True` for any use case where you don't have full control of the loaded file. Please open an issue on GitHub for any issues related to this experimental feature.\n",
      "  model = torch.load(model_path, map_location=map_location)\n"
     ]
    },
    {
     "name": "stdout",
     "output_type": "stream",
     "text": [
      "\u001b[34mINFO    \u001b[0m File 100_ind_1000_gene_subset1/model.pt already downloaded                                                \n"
     ]
    },
    {
     "name": "stderr",
     "output_type": "stream",
     "text": [
      "/home/patrick/miniconda3/envs/sctest-env/lib/python3.9/site-packages/scvi/model/base/_utils.py:66: FutureWarning: You are using `torch.load` with `weights_only=False` (the current default value), which uses the default pickle module implicitly. It is possible to construct malicious pickle data which will execute arbitrary code during unpickling (See https://github.com/pytorch/pytorch/blob/main/SECURITY.md#untrusted-models for more details). In a future release, the default value for `weights_only` will be flipped to `True`. This limits the functions that could be executed during unpickling. Arbitrary objects will no longer be allowed to be loaded via this mode unless they are explicitly allowlisted by the user via `torch.serialization.add_safe_globals`. We recommend you start setting `weights_only=True` for any use case where you don't have full control of the loaded file. Please open an issue on GitHub for any issues related to this experimental feature.\n",
      "  model = torch.load(model_path, map_location=map_location)\n"
     ]
    },
    {
     "name": "stdout",
     "output_type": "stream",
     "text": [
      "(50738, 10) (42272, 10) (50738, 10)\n"
     ]
    }
   ],
   "source": [
    "def embed_adata(input_path, model_path):\n",
    "    adata_new = sc.read_h5ad(input_path)\n",
    "    model = scvi.model.SCVI.load(model_path, adata=adata_new)\n",
    "    adata_new.obsm[\"X_scVI\"] = model.get_latent_representation()\n",
    "    return adata_new\n",
    "\n",
    "real_adata = embed_adata(\"100_ind_1000_gene_ct0.h5ad\", scvi_dir)\n",
    "holdout_adata = embed_adata(\"group1_holdout.h5ad\", scvi_dir)\n",
    "synth_adata = embed_adata(\"1000_genes_100_ind_subset1_out.h5ad\", scvi_dir)\n",
    "print(real_adata.obsm[\"X_scVI\"].shape, holdout_adata.obsm[\"X_scVI\"].shape, synth_adata.obsm[\"X_scVI\"].shape)"
   ]
  },
  {
   "cell_type": "code",
   "execution_count": 44,
   "id": "4cc78fd1-6d24-46c0-b746-772c552710a3",
   "metadata": {},
   "outputs": [],
   "source": [
    "from sklearn.neighbors import NearestNeighbors\n",
    "\n",
    "def get_dist_to_synth_nn(real_embds, synth_embds):\n",
    "    nn = NearestNeighbors(n_neighbors=1, metric='euclidean').fit(synth_embds)\n",
    "    distances, indices = nn.kneighbors(real_embds)\n",
    "    return distances[:, 0]\n",
    "\n",
    "train_dists = get_dist_to_synth_nn(real_adata.obsm[\"X_scVI\"], synth_adata.obsm[\"X_scVI\"])\n",
    "holdout_dists = get_dist_to_synth_nn(holdout_adata.obsm[\"X_scVI\"], synth_adata.obsm[\"X_scVI\"])"
   ]
  },
  {
   "cell_type": "code",
   "execution_count": 58,
   "id": "764849a7-2b14-4089-a521-c4225a9930df",
   "metadata": {},
   "outputs": [
    {
     "data": {
      "text/plain": [
       "(50738,)"
      ]
     },
     "execution_count": 58,
     "metadata": {},
     "output_type": "execute_result"
    }
   ],
   "source": [
    "type(real_adata.obsm[\"X_scVI\"])\n",
    "real_adata.obsm[\"X_scVI\"].shape\n",
    "train_dists.shape"
   ]
  },
  {
   "cell_type": "code",
   "execution_count": 72,
   "id": "fb63d51a-747d-46fa-868e-cc5ed1820d8f",
   "metadata": {},
   "outputs": [
    {
     "data": {
      "text/plain": [
       "(50738, 10)"
      ]
     },
     "execution_count": 72,
     "metadata": {},
     "output_type": "execute_result"
    }
   ],
   "source": [
    "real_adata.obsm[\"X_scVI\"].shape"
   ]
  },
  {
   "cell_type": "code",
   "execution_count": 110,
   "id": "f944c464-2591-43c1-b529-073f8a98c9ed",
   "metadata": {},
   "outputs": [
    {
     "name": "stdout",
     "output_type": "stream",
     "text": [
      "Train features shape torch.Size([50738, 11])\n",
      "Train labels shape torch.Size([50738, 1])\n",
      "Holdout features shape torch.Size([42272, 11])\n",
      "Holdout labels shape torch.Size([42272, 1])\n",
      "Features shape torch.Size([93010, 11])\n",
      "Labels shape torch.Size([93010, 1])\n"
     ]
    }
   ],
   "source": [
    "import numpy as np\n",
    "import torch\n",
    "import torch.nn as nn\n",
    "import torch.optim as optim\n",
    "from torch.utils.data import DataLoader, TensorDataset\n",
    "\n",
    "def get_tensor_dataset_helper(embds, dists, member):\n",
    "    assert embds.shape[0] == dists.shape[0]\n",
    "    features = torch.cat([\n",
    "        torch.from_numpy(embds.astype(np.float32)),\n",
    "        torch.from_numpy(dists.reshape(dists.shape[0], 1).astype(np.float32))\n",
    "    ], dim=1)\n",
    "    labels = torch.ones(embds.shape[0], 1, dtype=torch.float) if member else torch.zeros(embds.shape[0], 1, dtype=torch.float)\n",
    "    return features, labels\n",
    "\n",
    "def get_tensor_dataset(member_embds, member_dists, holdout_embds, holdout_dists):\n",
    "    train_ft, train_labels = get_tensor_dataset_helper(member_embds, train_dists, 1)\n",
    "    holdout_ft, holdout_labels = get_tensor_dataset_helper(holdout_embds, holdout_dists, 0)\n",
    "    print(\"Train features shape\", train_ft.shape)\n",
    "    print(\"Train labels shape\", train_labels.shape)\n",
    "    print(\"Holdout features shape\", holdout_ft.shape)\n",
    "    print(\"Holdout labels shape\", holdout_labels.shape)\n",
    "    features = torch.cat([train_ft, holdout_ft], dim=0)\n",
    "    labels = torch.cat([train_labels, holdout_labels], dim=0)\n",
    "    print(\"Features shape\", features.shape)\n",
    "    print(\"Labels shape\", labels.shape)\n",
    " \n",
    "    return TensorDataset(features, labels)\n",
    "\n",
    "dataset = get_tensor_dataset(real_adata.obsm[\"X_scVI\"], train_dists, holdout_adata.obsm[\"X_scVI\"], holdout_dists)"
   ]
  },
  {
   "cell_type": "code",
   "execution_count": 114,
   "id": "2a4376bf-258b-4f31-9a13-c9da9b0126ef",
   "metadata": {
    "scrolled": true
   },
   "outputs": [
    {
     "name": "stdout",
     "output_type": "stream",
     "text": [
      "Epoch 1/200, Loss: 0.6867\n",
      "Epoch 2/200, Loss: 0.6854\n",
      "Epoch 3/200, Loss: 0.6850\n",
      "Epoch 4/200, Loss: 0.6848\n",
      "Epoch 5/200, Loss: 0.6846\n",
      "Epoch 6/200, Loss: 0.6844\n",
      "Epoch 7/200, Loss: 0.6842\n",
      "Epoch 8/200, Loss: 0.6839\n",
      "Epoch 9/200, Loss: 0.6838\n",
      "Epoch 10/200, Loss: 0.6836\n",
      "Epoch 11/200, Loss: 0.6834\n",
      "Epoch 12/200, Loss: 0.6832\n",
      "Epoch 13/200, Loss: 0.6832\n",
      "Epoch 14/200, Loss: 0.6831\n",
      "Epoch 15/200, Loss: 0.6829\n",
      "Epoch 16/200, Loss: 0.6826\n",
      "Epoch 17/200, Loss: 0.6825\n",
      "Epoch 18/200, Loss: 0.6823\n",
      "Epoch 19/200, Loss: 0.6821\n",
      "Epoch 20/200, Loss: 0.6820\n",
      "Epoch 21/200, Loss: 0.6818\n",
      "Epoch 22/200, Loss: 0.6818\n",
      "Epoch 23/200, Loss: 0.6816\n",
      "Epoch 24/200, Loss: 0.6814\n",
      "Epoch 25/200, Loss: 0.6812\n",
      "Epoch 26/200, Loss: 0.6810\n",
      "Epoch 27/200, Loss: 0.6809\n",
      "Epoch 28/200, Loss: 0.6808\n",
      "Epoch 29/200, Loss: 0.6807\n",
      "Epoch 30/200, Loss: 0.6805\n",
      "Epoch 31/200, Loss: 0.6805\n",
      "Epoch 32/200, Loss: 0.6803\n",
      "Epoch 33/200, Loss: 0.6803\n",
      "Epoch 34/200, Loss: 0.6802\n",
      "Epoch 35/200, Loss: 0.6802\n",
      "Epoch 36/200, Loss: 0.6801\n",
      "Epoch 37/200, Loss: 0.6799\n",
      "Epoch 38/200, Loss: 0.6798\n",
      "Epoch 39/200, Loss: 0.6798\n",
      "Epoch 40/200, Loss: 0.6797\n",
      "Epoch 41/200, Loss: 0.6795\n",
      "Epoch 42/200, Loss: 0.6796\n",
      "Epoch 43/200, Loss: 0.6796\n",
      "Epoch 44/200, Loss: 0.6795\n",
      "Epoch 45/200, Loss: 0.6794\n",
      "Epoch 46/200, Loss: 0.6794\n",
      "Epoch 47/200, Loss: 0.6793\n",
      "Epoch 48/200, Loss: 0.6792\n",
      "Epoch 49/200, Loss: 0.6792\n",
      "Epoch 50/200, Loss: 0.6791\n",
      "Epoch 51/200, Loss: 0.6790\n",
      "Epoch 52/200, Loss: 0.6791\n",
      "Epoch 53/200, Loss: 0.6789\n",
      "Epoch 54/200, Loss: 0.6790\n",
      "Epoch 55/200, Loss: 0.6790\n",
      "Epoch 56/200, Loss: 0.6787\n",
      "Epoch 57/200, Loss: 0.6787\n",
      "Epoch 58/200, Loss: 0.6786\n",
      "Epoch 59/200, Loss: 0.6786\n",
      "Epoch 60/200, Loss: 0.6784\n",
      "Epoch 61/200, Loss: 0.6785\n",
      "Epoch 62/200, Loss: 0.6785\n",
      "Epoch 63/200, Loss: 0.6785\n",
      "Epoch 64/200, Loss: 0.6783\n",
      "Epoch 65/200, Loss: 0.6783\n",
      "Epoch 66/200, Loss: 0.6782\n",
      "Epoch 67/200, Loss: 0.6783\n",
      "Epoch 68/200, Loss: 0.6782\n",
      "Epoch 69/200, Loss: 0.6783\n",
      "Epoch 70/200, Loss: 0.6781\n",
      "Epoch 71/200, Loss: 0.6780\n",
      "Epoch 72/200, Loss: 0.6779\n",
      "Epoch 73/200, Loss: 0.6779\n",
      "Epoch 74/200, Loss: 0.6779\n",
      "Epoch 75/200, Loss: 0.6777\n",
      "Epoch 76/200, Loss: 0.6777\n",
      "Epoch 77/200, Loss: 0.6777\n",
      "Epoch 78/200, Loss: 0.6776\n",
      "Epoch 79/200, Loss: 0.6775\n",
      "Epoch 80/200, Loss: 0.6777\n",
      "Epoch 81/200, Loss: 0.6775\n",
      "Epoch 82/200, Loss: 0.6775\n",
      "Epoch 83/200, Loss: 0.6776\n",
      "Epoch 84/200, Loss: 0.6775\n",
      "Epoch 85/200, Loss: 0.6773\n",
      "Epoch 86/200, Loss: 0.6775\n",
      "Epoch 87/200, Loss: 0.6773\n",
      "Epoch 88/200, Loss: 0.6774\n",
      "Epoch 89/200, Loss: 0.6774\n",
      "Epoch 90/200, Loss: 0.6774\n",
      "Epoch 91/200, Loss: 0.6772\n",
      "Epoch 92/200, Loss: 0.6771\n",
      "Epoch 93/200, Loss: 0.6772\n",
      "Epoch 94/200, Loss: 0.6772\n",
      "Epoch 95/200, Loss: 0.6772\n",
      "Epoch 96/200, Loss: 0.6772\n",
      "Epoch 97/200, Loss: 0.6771\n",
      "Epoch 98/200, Loss: 0.6772\n",
      "Epoch 99/200, Loss: 0.6770\n",
      "Epoch 100/200, Loss: 0.6772\n",
      "Epoch 101/200, Loss: 0.6770\n",
      "Epoch 102/200, Loss: 0.6771\n",
      "Epoch 103/200, Loss: 0.6769\n",
      "Epoch 104/200, Loss: 0.6771\n",
      "Epoch 105/200, Loss: 0.6769\n",
      "Epoch 106/200, Loss: 0.6770\n",
      "Epoch 107/200, Loss: 0.6770\n",
      "Epoch 108/200, Loss: 0.6769\n",
      "Epoch 109/200, Loss: 0.6769\n",
      "Epoch 110/200, Loss: 0.6768\n",
      "Epoch 111/200, Loss: 0.6769\n",
      "Epoch 112/200, Loss: 0.6769\n",
      "Epoch 113/200, Loss: 0.6768\n",
      "Epoch 114/200, Loss: 0.6768\n",
      "Epoch 115/200, Loss: 0.6768\n",
      "Epoch 116/200, Loss: 0.6768\n",
      "Epoch 117/200, Loss: 0.6766\n",
      "Epoch 118/200, Loss: 0.6767\n",
      "Epoch 119/200, Loss: 0.6766\n",
      "Epoch 120/200, Loss: 0.6767\n",
      "Epoch 121/200, Loss: 0.6767\n",
      "Epoch 122/200, Loss: 0.6767\n",
      "Epoch 123/200, Loss: 0.6766\n",
      "Epoch 124/200, Loss: 0.6767\n",
      "Epoch 125/200, Loss: 0.6764\n",
      "Epoch 126/200, Loss: 0.6765\n",
      "Epoch 127/200, Loss: 0.6765\n",
      "Epoch 128/200, Loss: 0.6765\n",
      "Epoch 129/200, Loss: 0.6764\n",
      "Epoch 130/200, Loss: 0.6765\n",
      "Epoch 131/200, Loss: 0.6764\n",
      "Epoch 132/200, Loss: 0.6764\n",
      "Epoch 133/200, Loss: 0.6766\n",
      "Epoch 134/200, Loss: 0.6764\n",
      "Epoch 135/200, Loss: 0.6764\n",
      "Epoch 136/200, Loss: 0.6764\n",
      "Epoch 137/200, Loss: 0.6764\n",
      "Epoch 138/200, Loss: 0.6763\n",
      "Epoch 139/200, Loss: 0.6762\n",
      "Epoch 140/200, Loss: 0.6764\n",
      "Epoch 141/200, Loss: 0.6763\n",
      "Epoch 142/200, Loss: 0.6762\n",
      "Epoch 143/200, Loss: 0.6763\n",
      "Epoch 144/200, Loss: 0.6763\n",
      "Epoch 145/200, Loss: 0.6763\n",
      "Epoch 146/200, Loss: 0.6762\n",
      "Epoch 147/200, Loss: 0.6763\n",
      "Epoch 148/200, Loss: 0.6762\n",
      "Epoch 149/200, Loss: 0.6762\n",
      "Epoch 150/200, Loss: 0.6763\n",
      "Epoch 151/200, Loss: 0.6761\n",
      "Epoch 152/200, Loss: 0.6762\n",
      "Epoch 153/200, Loss: 0.6762\n",
      "Epoch 154/200, Loss: 0.6762\n",
      "Epoch 155/200, Loss: 0.6761\n",
      "Epoch 156/200, Loss: 0.6760\n",
      "Epoch 157/200, Loss: 0.6761\n",
      "Epoch 158/200, Loss: 0.6760\n",
      "Epoch 159/200, Loss: 0.6761\n",
      "Epoch 160/200, Loss: 0.6760\n",
      "Epoch 161/200, Loss: 0.6762\n",
      "Epoch 162/200, Loss: 0.6759\n",
      "Epoch 163/200, Loss: 0.6760\n",
      "Epoch 164/200, Loss: 0.6760\n",
      "Epoch 165/200, Loss: 0.6760\n",
      "Epoch 166/200, Loss: 0.6760\n",
      "Epoch 167/200, Loss: 0.6760\n",
      "Epoch 168/200, Loss: 0.6760\n",
      "Epoch 169/200, Loss: 0.6759\n",
      "Epoch 170/200, Loss: 0.6759\n",
      "Epoch 171/200, Loss: 0.6759\n",
      "Epoch 172/200, Loss: 0.6757\n",
      "Epoch 173/200, Loss: 0.6759\n",
      "Epoch 174/200, Loss: 0.6759\n",
      "Epoch 175/200, Loss: 0.6760\n",
      "Epoch 176/200, Loss: 0.6758\n",
      "Epoch 177/200, Loss: 0.6757\n",
      "Epoch 178/200, Loss: 0.6758\n",
      "Epoch 179/200, Loss: 0.6759\n",
      "Epoch 180/200, Loss: 0.6759\n",
      "Epoch 181/200, Loss: 0.6758\n",
      "Epoch 182/200, Loss: 0.6759\n",
      "Epoch 183/200, Loss: 0.6759\n",
      "Epoch 184/200, Loss: 0.6759\n",
      "Epoch 185/200, Loss: 0.6758\n",
      "Epoch 186/200, Loss: 0.6757\n",
      "Epoch 187/200, Loss: 0.6758\n",
      "Epoch 188/200, Loss: 0.6756\n",
      "Epoch 189/200, Loss: 0.6758\n",
      "Epoch 190/200, Loss: 0.6758\n",
      "Epoch 191/200, Loss: 0.6758\n",
      "Epoch 192/200, Loss: 0.6756\n",
      "Epoch 193/200, Loss: 0.6757\n",
      "Epoch 194/200, Loss: 0.6757\n",
      "Epoch 195/200, Loss: 0.6756\n",
      "Epoch 196/200, Loss: 0.6756\n",
      "Epoch 197/200, Loss: 0.6757\n",
      "Epoch 198/200, Loss: 0.6756\n",
      "Epoch 199/200, Loss: 0.6757\n",
      "Epoch 200/200, Loss: 0.6755\n"
     ]
    }
   ],
   "source": [
    "class MiaNN(nn.Module):\n",
    "    def __init__(self, input_dim=11):\n",
    "        super(MiaNN, self).__init__()\n",
    "        self.model = nn.Sequential(\n",
    "            nn.Linear(input_dim, 32),\n",
    "            nn.ReLU(),\n",
    "            nn.Linear(32, 16),\n",
    "            nn.ReLU(),\n",
    "            nn.Linear(16, 1),\n",
    "            nn.Sigmoid()\n",
    "        )\n",
    "\n",
    "    def forward(self, x):\n",
    "        return self.model(x)\n",
    "\n",
    "loader = DataLoader(dataset, batch_size=32, shuffle=True)\n",
    "embedding_dim = len(real_adata.obsm[\"X_scVI\"][0])\n",
    "model = MiaNN(input_dim=embedding_dim + 1)\n",
    "criterion = nn.BCELoss()\n",
    "optimizer = optim.Adam(model.parameters(), lr=1e-3)\n",
    "\n",
    "n_epochs = 200\n",
    "loss_vals = []\n",
    "for epoch in range(n_epochs):\n",
    "    epoch_loss = 0\n",
    "    for batch_X, batch_y in loader:\n",
    "        optimizer.zero_grad()\n",
    "        y_pred = model(batch_X)\n",
    "        loss = criterion(y_pred, batch_y)\n",
    "        loss.backward()\n",
    "        optimizer.step()\n",
    "        epoch_loss += loss.item() * batch_X.size(0)\n",
    "    epoch_loss /= len(loader.dataset)\n",
    "    loss_vals.append(epoch_loss)\n",
    "    print(f\"Epoch {epoch+1}/{n_epochs}, Loss: {epoch_loss:.4f}\")"
   ]
  },
  {
   "cell_type": "code",
   "execution_count": 115,
   "id": "a36cc86d-6d3b-41cc-977d-96764917dc50",
   "metadata": {},
   "outputs": [
    {
     "data": {
      "image/png": "[encoded data removed]",
      "text/plain": [
       "<Figure size 640x480 with 1 Axes>"
      ]
     },
     "metadata": {},
     "output_type": "display_data"
    }
   ],
   "source": [
    "import matplotlib.pyplot as plt\n",
    "\n",
    "plt.plot(loss_vals, marker='o')\n",
    "plt.xlabel('Epoch')\n",
    "plt.ylabel('Loss')\n",
    "plt.title('Training Loss per Epoch')\n",
    "plt.grid(True)\n",
    "plt.show()"
   ]
  },
  {
   "cell_type": "code",
   "execution_count": 120,
   "id": "e51d2b9f-eea7-44e8-9152-855fa7296679",
   "metadata": {},
   "outputs": [],
   "source": [
    "torch.save(model.state_dict(), \"miaNN\")"
   ]
  },
  {
   "cell_type": "code",
   "execution_count": 126,
   "id": "dd800ea0-69c1-476b-99ab-1d096d459d86",
   "metadata": {
    "scrolled": true
   },
   "outputs": [
    {
     "name": "stdout",
     "output_type": "stream",
     "text": [
      "\u001b[34mINFO    \u001b[0m File 100_ind_1000_gene_subset1/model.pt already downloaded                                                \n"
     ]
    },
    {
     "name": "stderr",
     "output_type": "stream",
     "text": [
      "/home/patrick/miniconda3/envs/sctest-env/lib/python3.9/site-packages/scvi/model/base/_utils.py:66: FutureWarning: You are using `torch.load` with `weights_only=False` (the current default value), which uses the default pickle module implicitly. It is possible to construct malicious pickle data which will execute arbitrary code during unpickling (See https://github.com/pytorch/pytorch/blob/main/SECURITY.md#untrusted-models for more details). In a future release, the default value for `weights_only` will be flipped to `True`. This limits the functions that could be executed during unpickling. Arbitrary objects will no longer be allowed to be loaded via this mode unless they are explicitly allowlisted by the user via `torch.serialization.add_safe_globals`. We recommend you start setting `weights_only=True` for any use case where you don't have full control of the loaded file. Please open an issue on GitHub for any issues related to this experimental feature.\n",
      "  model = torch.load(model_path, map_location=map_location)\n"
     ]
    },
    {
     "name": "stdout",
     "output_type": "stream",
     "text": [
      "\u001b[34mINFO    \u001b[0m File 100_ind_1000_gene_subset1/model.pt already downloaded                                                \n"
     ]
    },
    {
     "name": "stderr",
     "output_type": "stream",
     "text": [
      "/home/patrick/miniconda3/envs/sctest-env/lib/python3.9/site-packages/scvi/model/base/_utils.py:66: FutureWarning: You are using `torch.load` with `weights_only=False` (the current default value), which uses the default pickle module implicitly. It is possible to construct malicious pickle data which will execute arbitrary code during unpickling (See https://github.com/pytorch/pytorch/blob/main/SECURITY.md#untrusted-models for more details). In a future release, the default value for `weights_only` will be flipped to `True`. This limits the functions that could be executed during unpickling. Arbitrary objects will no longer be allowed to be loaded via this mode unless they are explicitly allowlisted by the user via `torch.serialization.add_safe_globals`. We recommend you start setting `weights_only=True` for any use case where you don't have full control of the loaded file. Please open an issue on GitHub for any issues related to this experimental feature.\n",
      "  model = torch.load(model_path, map_location=map_location)\n"
     ]
    },
    {
     "name": "stdout",
     "output_type": "stream",
     "text": [
      "\u001b[34mINFO    \u001b[0m File 100_ind_1000_gene_subset1/model.pt already downloaded                                                \n"
     ]
    },
    {
     "name": "stderr",
     "output_type": "stream",
     "text": [
      "/home/patrick/miniconda3/envs/sctest-env/lib/python3.9/site-packages/scvi/model/base/_utils.py:66: FutureWarning: You are using `torch.load` with `weights_only=False` (the current default value), which uses the default pickle module implicitly. It is possible to construct malicious pickle data which will execute arbitrary code during unpickling (See https://github.com/pytorch/pytorch/blob/main/SECURITY.md#untrusted-models for more details). In a future release, the default value for `weights_only` will be flipped to `True`. This limits the functions that could be executed during unpickling. Arbitrary objects will no longer be allowed to be loaded via this mode unless they are explicitly allowlisted by the user via `torch.serialization.add_safe_globals`. We recommend you start setting `weights_only=True` for any use case where you don't have full control of the loaded file. Please open an issue on GitHub for any issues related to this experimental feature.\n",
      "  model = torch.load(model_path, map_location=map_location)\n"
     ]
    },
    {
     "name": "stdout",
     "output_type": "stream",
     "text": [
      "Train features shape torch.Size([45389, 11])\n",
      "Train labels shape torch.Size([45389, 1])\n",
      "Holdout features shape torch.Size([48957, 11])\n",
      "Holdout labels shape torch.Size([48957, 1])\n",
      "Features shape torch.Size([94346, 11])\n",
      "Labels shape torch.Size([94346, 1])\n"
     ]
    }
   ],
   "source": [
    "real_adata2 = embed_adata(\"100_ind_1000_gene_subset2_ct0.h5ad\", scvi_dir)\n",
    "holdout_adata2 = embed_adata(\"group2_holdout.h5ad\", scvi_dir)\n",
    "synth_adata2 = embed_adata(\"1000_genes_100_ind_subset2_out.h5ad\", scvi_dir)\n",
    "\n",
    "train_dists2 = get_dist_to_synth_nn(real_adata2.obsm[\"X_scVI\"], synth_adata2.obsm[\"X_scVI\"])\n",
    "holdout_dists2 = get_dist_to_synth_nn(holdout_adata2.obsm[\"X_scVI\"], synth_adata2.obsm[\"X_scVI\"])\n",
    "\n",
    "test_dataset = get_tensor_dataset(real_adata2.obsm[\"X_scVI\"], train_dists2, holdout_adata2.obsm[\"X_scVI\"], holdout_dists2)"
   ]
  },
  {
   "cell_type": "code",
   "execution_count": 127,
   "id": "a4a73d06-8d88-4d6c-b6ba-4da722f06539",
   "metadata": {},
   "outputs": [
    {
     "name": "stdout",
     "output_type": "stream",
     "text": [
      "              precision    recall  f1-score   support\n",
      "\n",
      "         0.0       0.53      0.27      0.35     48957\n",
      "         1.0       0.48      0.75      0.59     45389\n",
      "\n",
      "    accuracy                           0.50     94346\n",
      "   macro avg       0.51      0.51      0.47     94346\n",
      "weighted avg       0.51      0.50      0.47     94346\n",
      "\n"
     ]
    }
   ],
   "source": [
    "from sklearn.metrics import classification_report\n",
    "test_loader = DataLoader(test_dataset, batch_size=32, shuffle=False)\n",
    "model.eval()\n",
    "\n",
    "all_preds = []\n",
    "all_labels = []\n",
    "\n",
    "with torch.no_grad():\n",
    "    for batch_X, batch_y in test_loader:\n",
    "        batch_X, batch_y = batch_X.float(), batch_y.float()\n",
    "        y_pred = model(batch_X)\n",
    "        y_pred_label = (y_pred >= 0.5).float()\n",
    "        all_preds.append(y_pred_label)\n",
    "        all_labels.append(batch_y)\n",
    "\n",
    "all_preds = torch.cat(all_preds).cpu().numpy()\n",
    "all_labels = torch.cat(all_labels).cpu().numpy()\n",
    "\n",
    "print(classification_report(all_labels, all_preds))"
   ]
  }
 ],
 "metadata": {
  "kernelspec": {
   "display_name": "jupyter-kernel",
   "language": "python",
   "name": "jupyter-kernel"
  },
  "language_info": {
   "codemirror_mode": {
    "name": "ipython",
    "version": 3
   },
   "file_extension": ".py",
   "mimetype": "text/x-python",
   "name": "python",
   "nbconvert_exporter": "python",
   "pygments_lexer": "ipython3",
   "version": "3.9.21"
  }
 },
 "nbformat": 4,
 "nbformat_minor": 5
}
